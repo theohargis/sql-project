{
 "cells": [
  {
   "cell_type": "markdown",
   "metadata": {},
   "source": [
    "Import the necessary libraries\n",
    "- To make a web page request\n",
    "- To save data to a dataframe\n",
    "- To interact with an SQL database\n",
    "- To parse web pages\n",
    "- To import csv files\n",
    "- To pause between website requests\n",
    "- To import csv files"
   ]
  },
  {
   "cell_type": "code",
   "execution_count": 1,
   "metadata": {},
   "outputs": [],
   "source": [
    "import requests\n",
    "from bs4 import BeautifulSoup\n",
    "import pandas as pd\n",
    "import sqlalchemy\n",
    "from sqlalchemy import create_engine\n",
    "import mysql.connector\n",
    "from mysql.connector import Error\n",
    "import time\n",
    "import csv\n"
   ]
  },
  {
   "cell_type": "code",
   "execution_count": 2,
   "metadata": {},
   "outputs": [
    {
     "name": "stdout",
     "output_type": "stream",
     "text": [
      "Requirement already satisfied: mysql-connector-python in /Users/theohargis/opt/anaconda3/envs/spring_2021/lib/python3.8/site-packages (8.0.23)\n",
      "Requirement already satisfied: protobuf>=3.0.0 in /Users/theohargis/opt/anaconda3/envs/spring_2021/lib/python3.8/site-packages (from mysql-connector-python) (3.15.8)\n",
      "Requirement already satisfied: six>=1.9 in /Users/theohargis/opt/anaconda3/envs/spring_2021/lib/python3.8/site-packages (from protobuf>=3.0.0->mysql-connector-python) (1.15.0)\n",
      "Note: you may need to restart the kernel to use updated packages.\n"
     ]
    }
   ],
   "source": [
    "pip install mysql-connector-python"
   ]
  },
  {
   "cell_type": "markdown",
   "metadata": {},
   "source": [
    "## IMPORT TSV FILE OF REDFIN DATA AND INSERT INTO DATAFRAME"
   ]
  },
  {
   "cell_type": "markdown",
   "metadata": {},
   "source": [
    "Use Pandas to read tsv file and convert to dataframe table"
   ]
  },
  {
   "cell_type": "code",
   "execution_count": 11,
   "metadata": {},
   "outputs": [],
   "source": [
    "df = pd.read_csv('weekly_housing_market_data_most_recent (1).tsv', sep = '\\t')"
   ]
  },
  {
   "cell_type": "markdown",
   "metadata": {},
   "source": [
    "Print out first 5 elements of dataframe to ensure proper conversion"
   ]
  },
  {
   "cell_type": "code",
   "execution_count": 12,
   "metadata": {},
   "outputs": [
    {
     "data": {
      "text/html": [
       "<div>\n",
       "<style scoped>\n",
       "    .dataframe tbody tr th:only-of-type {\n",
       "        vertical-align: middle;\n",
       "    }\n",
       "\n",
       "    .dataframe tbody tr th {\n",
       "        vertical-align: top;\n",
       "    }\n",
       "\n",
       "    .dataframe thead th {\n",
       "        text-align: right;\n",
       "    }\n",
       "</style>\n",
       "<table border=\"1\" class=\"dataframe\">\n",
       "  <thead>\n",
       "    <tr style=\"text-align: right;\">\n",
       "      <th></th>\n",
       "      <th>region_id</th>\n",
       "      <th>region_type_id</th>\n",
       "      <th>region_name</th>\n",
       "      <th>region_type</th>\n",
       "      <th>period_begin</th>\n",
       "      <th>period_end</th>\n",
       "      <th>duration</th>\n",
       "      <th>total_homes_sold</th>\n",
       "      <th>total_homes_sold_yoy</th>\n",
       "      <th>average_homes_sold</th>\n",
       "      <th>...</th>\n",
       "      <th>pending_sales_to_sales_ratio_yoy</th>\n",
       "      <th>months_of_supply</th>\n",
       "      <th>months_of_supply_yoy</th>\n",
       "      <th>average_pending_sales_listing_updates</th>\n",
       "      <th>average_pending_sales_listing_updates_yoy</th>\n",
       "      <th>percent_total_price_drops_of_inventory</th>\n",
       "      <th>percent_total_price_drops_of_inventory_yoy</th>\n",
       "      <th>percent_homes_sold_above_list</th>\n",
       "      <th>percent_homes_sold_above_list_yoy</th>\n",
       "      <th>last_updated</th>\n",
       "    </tr>\n",
       "  </thead>\n",
       "  <tbody>\n",
       "    <tr>\n",
       "      <th>0</th>\n",
       "      <td>3181</td>\n",
       "      <td>5</td>\n",
       "      <td>Florence County, WI</td>\n",
       "      <td>county</td>\n",
       "      <td>2019-01-21</td>\n",
       "      <td>2019-01-27</td>\n",
       "      <td>1 weeks</td>\n",
       "      <td>NaN</td>\n",
       "      <td>NaN</td>\n",
       "      <td>NaN</td>\n",
       "      <td>...</td>\n",
       "      <td>NaN</td>\n",
       "      <td>NaN</td>\n",
       "      <td>NaN</td>\n",
       "      <td>NaN</td>\n",
       "      <td>NaN</td>\n",
       "      <td>NaN</td>\n",
       "      <td>NaN</td>\n",
       "      <td>NaN</td>\n",
       "      <td>NaN</td>\n",
       "      <td>2021-04-14 14:53:30</td>\n",
       "    </tr>\n",
       "    <tr>\n",
       "      <th>1</th>\n",
       "      <td>351</td>\n",
       "      <td>5</td>\n",
       "      <td>Sonoma County, CA</td>\n",
       "      <td>county</td>\n",
       "      <td>2018-12-03</td>\n",
       "      <td>2018-12-09</td>\n",
       "      <td>1 weeks</td>\n",
       "      <td>72.0</td>\n",
       "      <td>-0.320755</td>\n",
       "      <td>72.0</td>\n",
       "      <td>...</td>\n",
       "      <td>-0.101939</td>\n",
       "      <td>17.625000</td>\n",
       "      <td>9.992925</td>\n",
       "      <td>135.0</td>\n",
       "      <td>0.038462</td>\n",
       "      <td>0.053082</td>\n",
       "      <td>0.024347</td>\n",
       "      <td>0.152778</td>\n",
       "      <td>-0.356656</td>\n",
       "      <td>2021-04-14 14:53:30</td>\n",
       "    </tr>\n",
       "    <tr>\n",
       "      <th>2</th>\n",
       "      <td>2699</td>\n",
       "      <td>5</td>\n",
       "      <td>Delta County, TX</td>\n",
       "      <td>county</td>\n",
       "      <td>2018-03-19</td>\n",
       "      <td>2018-03-25</td>\n",
       "      <td>1 weeks</td>\n",
       "      <td>NaN</td>\n",
       "      <td>NaN</td>\n",
       "      <td>NaN</td>\n",
       "      <td>...</td>\n",
       "      <td>NaN</td>\n",
       "      <td>NaN</td>\n",
       "      <td>NaN</td>\n",
       "      <td>1.0</td>\n",
       "      <td>NaN</td>\n",
       "      <td>NaN</td>\n",
       "      <td>NaN</td>\n",
       "      <td>NaN</td>\n",
       "      <td>NaN</td>\n",
       "      <td>2021-04-14 14:53:30</td>\n",
       "    </tr>\n",
       "    <tr>\n",
       "      <th>3</th>\n",
       "      <td>351</td>\n",
       "      <td>5</td>\n",
       "      <td>Sonoma County, CA</td>\n",
       "      <td>county</td>\n",
       "      <td>2021-03-22</td>\n",
       "      <td>2021-03-28</td>\n",
       "      <td>1 weeks</td>\n",
       "      <td>110.0</td>\n",
       "      <td>0.571429</td>\n",
       "      <td>110.0</td>\n",
       "      <td>...</td>\n",
       "      <td>-0.116883</td>\n",
       "      <td>9.809091</td>\n",
       "      <td>-6.590909</td>\n",
       "      <td>208.0</td>\n",
       "      <td>1.166667</td>\n",
       "      <td>0.028067</td>\n",
       "      <td>0.008836</td>\n",
       "      <td>0.563636</td>\n",
       "      <td>0.277922</td>\n",
       "      <td>2021-04-14 14:53:30</td>\n",
       "    </tr>\n",
       "    <tr>\n",
       "      <th>4</th>\n",
       "      <td>2699</td>\n",
       "      <td>5</td>\n",
       "      <td>Delta County, TX</td>\n",
       "      <td>county</td>\n",
       "      <td>2017-01-23</td>\n",
       "      <td>2017-01-29</td>\n",
       "      <td>1 weeks</td>\n",
       "      <td>NaN</td>\n",
       "      <td>NaN</td>\n",
       "      <td>NaN</td>\n",
       "      <td>...</td>\n",
       "      <td>NaN</td>\n",
       "      <td>NaN</td>\n",
       "      <td>NaN</td>\n",
       "      <td>NaN</td>\n",
       "      <td>NaN</td>\n",
       "      <td>NaN</td>\n",
       "      <td>NaN</td>\n",
       "      <td>NaN</td>\n",
       "      <td>NaN</td>\n",
       "      <td>2021-04-14 14:53:30</td>\n",
       "    </tr>\n",
       "  </tbody>\n",
       "</table>\n",
       "<p>5 rows × 84 columns</p>\n",
       "</div>"
      ],
      "text/plain": [
       "   region_id  region_type_id          region_name region_type period_begin  \\\n",
       "0       3181               5  Florence County, WI      county   2019-01-21   \n",
       "1        351               5    Sonoma County, CA      county   2018-12-03   \n",
       "2       2699               5     Delta County, TX      county   2018-03-19   \n",
       "3        351               5    Sonoma County, CA      county   2021-03-22   \n",
       "4       2699               5     Delta County, TX      county   2017-01-23   \n",
       "\n",
       "   period_end duration  total_homes_sold  total_homes_sold_yoy  \\\n",
       "0  2019-01-27  1 weeks               NaN                   NaN   \n",
       "1  2018-12-09  1 weeks              72.0             -0.320755   \n",
       "2  2018-03-25  1 weeks               NaN                   NaN   \n",
       "3  2021-03-28  1 weeks             110.0              0.571429   \n",
       "4  2017-01-29  1 weeks               NaN                   NaN   \n",
       "\n",
       "   average_homes_sold  ...  pending_sales_to_sales_ratio_yoy  \\\n",
       "0                 NaN  ...                               NaN   \n",
       "1                72.0  ...                         -0.101939   \n",
       "2                 NaN  ...                               NaN   \n",
       "3               110.0  ...                         -0.116883   \n",
       "4                 NaN  ...                               NaN   \n",
       "\n",
       "   months_of_supply  months_of_supply_yoy  \\\n",
       "0               NaN                   NaN   \n",
       "1         17.625000              9.992925   \n",
       "2               NaN                   NaN   \n",
       "3          9.809091             -6.590909   \n",
       "4               NaN                   NaN   \n",
       "\n",
       "   average_pending_sales_listing_updates  \\\n",
       "0                                    NaN   \n",
       "1                                  135.0   \n",
       "2                                    1.0   \n",
       "3                                  208.0   \n",
       "4                                    NaN   \n",
       "\n",
       "   average_pending_sales_listing_updates_yoy  \\\n",
       "0                                        NaN   \n",
       "1                                   0.038462   \n",
       "2                                        NaN   \n",
       "3                                   1.166667   \n",
       "4                                        NaN   \n",
       "\n",
       "   percent_total_price_drops_of_inventory  \\\n",
       "0                                     NaN   \n",
       "1                                0.053082   \n",
       "2                                     NaN   \n",
       "3                                0.028067   \n",
       "4                                     NaN   \n",
       "\n",
       "   percent_total_price_drops_of_inventory_yoy  percent_homes_sold_above_list  \\\n",
       "0                                         NaN                            NaN   \n",
       "1                                    0.024347                       0.152778   \n",
       "2                                         NaN                            NaN   \n",
       "3                                    0.008836                       0.563636   \n",
       "4                                         NaN                            NaN   \n",
       "\n",
       "   percent_homes_sold_above_list_yoy         last_updated  \n",
       "0                                NaN  2021-04-14 14:53:30  \n",
       "1                          -0.356656  2021-04-14 14:53:30  \n",
       "2                                NaN  2021-04-14 14:53:30  \n",
       "3                           0.277922  2021-04-14 14:53:30  \n",
       "4                                NaN  2021-04-14 14:53:30  \n",
       "\n",
       "[5 rows x 84 columns]"
      ]
     },
     "execution_count": 12,
     "metadata": {},
     "output_type": "execute_result"
    }
   ],
   "source": [
    "df.head()"
   ]
  },
  {
   "cell_type": "markdown",
   "metadata": {},
   "source": [
    "Drop unecessary columns to improve transfer speed between jupyter and DBeaver\n",
    "\n",
    "Separate dataframe into 3 separate dataframes based on geographic region\n",
    "- for the purpose of this project, I will be working with redfin housing data from CA, TX, and NY only"
   ]
  },
  {
   "cell_type": "code",
   "execution_count": 13,
   "metadata": {
    "scrolled": true
   },
   "outputs": [
    {
     "data": {
      "text/plain": [
       "40610"
      ]
     },
     "execution_count": 13,
     "metadata": {},
     "output_type": "execute_result"
    }
   ],
   "source": [
    "df = df.drop(['price_drops_yoy', 'percent_active_listings_with_price_drops', 'percent_active_listings_with_price_drops_yoy', 'total_new_listings_yoy', 'average_new_listings_yoy', 'median_new_listing_ppsf', 'median_new_listing_ppsf_yoy', 'inventory', 'inventory_yoy', 'active_listings', 'active_listings_yoy', 'age_of_inventory', 'age_of_inventory_yoy', 'homes_delisted', 'homes_delisted_yoy', 'percent_active_listings_delisted', 'percent_active_listings_delisted_yoy', 'median_active_list_price', 'median_active_list_price_yoy', 'median_active_list_ppsf', 'median_active_list_ppsf_yoy', 'avg_offer_to_list', 'avg_offer_to_list_yoy', 'average_sale_to_list_ratio', 'average_sale_to_list_ratio_yoy', 'pending_sales_to_sales_ratio', 'pending_sales_to_sales_ratio_yoy', 'months_of_supply', 'months_of_supply_yoy', 'average_pending_sales_listing_updates', 'average_pending_sales_listing_updates_yoy', 'percent_total_price_drops_of_inventory', 'percent_total_price_drops_of_inventory_yoy', 'percent_homes_sold_above_list', 'percent_homes_sold_above_list_yoy', 'last_updated'], axis = 1)\n",
    "\n",
    "df_CA = df[df['region_name'].str.contains('CA')==True]\n",
    "df_TX = df[df['region_name'].str.contains('TX')==True]\n",
    "df_NY = df[df['region_name'].str.contains('NY')==True]\n"
   ]
  },
  {
   "cell_type": "markdown",
   "metadata": {},
   "source": [
    "Test to find row lengths of each dataframe before connecting to SQL server"
   ]
  },
  {
   "cell_type": "code",
   "execution_count": 18,
   "metadata": {},
   "outputs": [
    {
     "data": {
      "text/plain": [
       "40610"
      ]
     },
     "execution_count": 18,
     "metadata": {},
     "output_type": "execute_result"
    }
   ],
   "source": [
    "df_CA.shape[0]"
   ]
  },
  {
   "cell_type": "code",
   "execution_count": 14,
   "metadata": {},
   "outputs": [
    {
     "data": {
      "text/plain": [
       "78850"
      ]
     },
     "execution_count": 14,
     "metadata": {},
     "output_type": "execute_result"
    }
   ],
   "source": [
    "df_TX.shape[0]"
   ]
  },
  {
   "cell_type": "code",
   "execution_count": 15,
   "metadata": {},
   "outputs": [
    {
     "data": {
      "text/plain": [
       "34060"
      ]
     },
     "execution_count": 15,
     "metadata": {},
     "output_type": "execute_result"
    }
   ],
   "source": [
    "df_NY.shape[0]"
   ]
  },
  {
   "cell_type": "markdown",
   "metadata": {},
   "source": [
    "Connect to SQL server \n",
    "- Database credentials have been replaced for security reasons"
   ]
  },
  {
   "cell_type": "code",
   "execution_count": 16,
   "metadata": {},
   "outputs": [
    {
     "name": "stdout",
     "output_type": "stream",
     "text": [
      "Connected to MySQL Server version  8.0.20\n",
      "You're connected to database:  ('sql_project',)\n",
      "MySQL connection is closed\n"
     ]
    }
   ],
   "source": [
    "try:\n",
    "    connection = mysql.connector.connect(host='~AWS_HOST~',\n",
    "                                         database='~DATABASE_NAME~',\n",
    "                                         user='~USER~',\n",
    "                                         password='~PASSWORD~',\n",
    "                                         charset='utf8')\n",
    "    if connection.is_connected():\n",
    "        db_Info = connection.get_server_info()\n",
    "        print(\"Connected to MySQL Server version \", db_Info)\n",
    "        cursor = connection.cursor()\n",
    "        cursor.execute(\"select database();\")\n",
    "        record = cursor.fetchone()\n",
    "        print(\"You're connected to database: \", record)\n",
    "\n",
    "except Error as e:\n",
    "    print(\"Error while connecting to MySQL\", e)\n",
    "finally:\n",
    "    if connection.is_connected():\n",
    "        cursor.close()\n",
    "        connection.close()\n",
    "        print(\"MySQL connection is closed\")"
   ]
  },
  {
   "cell_type": "markdown",
   "metadata": {},
   "source": [
    "Insert dataframe elements into new table in sql_project database"
   ]
  },
  {
   "cell_type": "code",
   "execution_count": 17,
   "metadata": {},
   "outputs": [],
   "source": [
    "engine = create_engine('mysql+mysqldb://~USER~:~PASSWORD~@~AWS_HOST~/~DATABASE_NAME~')\n",
    "df_CA.to_sql('redfin_CA_housing_data', engine, index=True, if_exists='append')\n",
    "df_TX.to_sql('redfin_TX_housing_data', engine, index=True, if_exists='append')\n",
    "df_NY.to_sql('redfin_NY_housing_data', engine, index=True, if_exists='append')"
   ]
  },
  {
   "cell_type": "markdown",
   "metadata": {},
   "source": [
    "# Web scrape a single web page and save the results to the redfin_properties_uncleaned table"
   ]
  },
  {
   "cell_type": "markdown",
   "metadata": {},
   "source": [
    "Import zipcode csv file and convert to list"
   ]
  },
  {
   "cell_type": "code",
   "execution_count": 3,
   "metadata": {},
   "outputs": [],
   "source": [
    "from fake_useragent import UserAgent"
   ]
  },
  {
   "cell_type": "code",
   "execution_count": 12,
   "metadata": {},
   "outputs": [],
   "source": [
    "ua = UserAgent()\n",
    "testUA = \"Mozilla/5.0 (X11; Ubuntu; Linux x86_64) AppleWebKit/537.36 (KHTML, like Gecko) Chrome/55.0.2919.83 Safari/537.36\""
   ]
  },
  {
   "cell_type": "code",
   "execution_count": 13,
   "metadata": {},
   "outputs": [
    {
     "name": "stdout",
     "output_type": "stream",
     "text": [
      "['90713', '91306', '90002', '90506', '90069', '91361', '90064', '91308', '91702', '91104', '93535', '91345', '91803', '91791', '90006', '90018', '90822', '90840', '90220', '91346', '91210', '90037', '91356', '91724', '90035', '91202', '91733', '90620', '90638', '90045', '90602', '93552', '90401', '93553', '91344', '90033', '90717', '90278', '90501', '90802', '91008', '90304', '90660', '90720', '90245', '91030', '90031', '90089', '91606', '90732', '91204', '91208', '90301', '91766', '90066', '91316', '91101', '90061', '93523', '91125', '91773', '91762', '90046', '90292', '91362', '93532', '90014', '91224', '91355', '90291', '93586', '90036', '90610', '90716', '90071', '90275', '91325', '90808', '91334', '91754', '90020', '90249', '90010', '90009', '91763', '91789', '90749', '90723', '91605', '91010', '91732', '93550', '91106', '92821', '91350', '92833', '90091', '91201', '91755', '90063', '91416', '90034', '90021', '91722', '90280', '91108', '91011', '90806', '90650', '91311', '91382', '91523', '90248', '90250', '90846', '90222', '91301', '92372', '91342', '90604', '91320', '91390', '93225', '91412', '90056', '91310', '91020', '90261', '91046', '91384', '90731', '90001', '90260', '91614', '91711', '90242', '90221', '91012', '90029', '91723', '91387', '90503', '91103', '90266', '91206', '91381', '90804', '91801', '90746', '90623', '91411', '91322', '91784', '90042', '91023', '93560', '90095', '92886', '91343', '91007', '91001', '91016', '90747', '91768', '90241', '90094', '90025', '90019', '91522', '90703', '90003', '90706', '91393', '91024', '90240', '90403', '90023', '92648', '90640', '90815', '91386', '90057', '90038', '91748', '90004', '90606', '90631', '91770', '90704', '90043', '91608', '91746', '91406', '92649', '90810', '90295', '91765', '91790', '90041', '90005', '93563', '90302', '90701', '92397', '90202', '91780', '90405', '91372', '91126', '90303', '90807', '91205', '91423', '90293', '91351', '90232', '90277', '91401', '91750', '91602', '91331', '91340', '91335', '91321', '91618', '91396', '90744', '90670', '90039', '91436', '92835', '91040', '91709', '91604', '91042', '91214', '93534', '90212', '91745', '90745', '91775', '90013', '90814', '91504', '91006', '91610', '90068', '91405', '91731', '93243', '92301', '92805', '90502', '91505', '90290', '90028', '91413', '93510', '90272', '90210', '90296', '90067', '90008', '90755', '92823', '91617', '90255', '90805', '92832', '90254', '92831', '90044', '91740', '90048', '90022', '93544', '90265', '90058', '90201', '90016', '91601', '91776', '93543', '91326', '90065', '90007', '90270', '91744', '90062', '91402', '91207', '91107', '90047', '90049', '91506', '91502', '90803', '90015', '93551', '90505', '91786', '91302', '90211', '90712', '90073', '91706', '91710', '91385', '90059', '90895', '90715', '90813', '91327', '90263', '91352', '90224', '90605', '90404', '91118', '92801', '91792', '91607', '91303', '90230', '91376', '90040', '91364', '91767', '91307', '91521', '91403', '90710', '91380', '92683', '90621', '90032', '91330', '93536', '90274', '91354', '90017', '90740', '91741', '91304', '90504', '90026', '90262', '90077', '91324', '91203', '90305', '91501', '90603', '92647', '91495', '91105', '90027', '93591', '90024', '91426', '90831', '90402', '90639', '90012', '91367', '90011', '90247', '90601', '90630', '91759']\n"
     ]
    }
   ],
   "source": [
    "# returns a list of lists\n",
    "with open('LA_county_zipcodes.csv', newline='') as zips:\n",
    "    # pass the file object to reader() to get the reader object\n",
    "    reader = csv.reader(zips)\n",
    "    # Pass reader object to list() to get a list of lists\n",
    "    data = list(reader)\n",
    "\n",
    "# convert list of lists into list of strings, each one being an individual zip code\n",
    "zipList = []\n",
    "for zip in data:\n",
    "    zipList.append(zip[0])\n",
    "del zipList[0]\n",
    "print(zipList)\n",
    "\n"
   ]
  },
  {
   "cell_type": "markdown",
   "metadata": {},
   "source": [
    "Set a variable to store the web page URL"
   ]
  },
  {
   "cell_type": "code",
   "execution_count": 14,
   "metadata": {},
   "outputs": [],
   "source": [
    "web_url = \"https://www.redfin.com/zipcode/\""
   ]
  },
  {
   "cell_type": "markdown",
   "metadata": {},
   "source": [
    "Set location_query to desired zipcode web address suffix"
   ]
  },
  {
   "cell_type": "code",
   "execution_count": 15,
   "metadata": {},
   "outputs": [
    {
     "name": "stdout",
     "output_type": "stream",
     "text": [
      "https://www.redfin.com/zipcode/90045\n"
     ]
    }
   ],
   "source": [
    "zip_url_addOn = \"90045\"\n",
    "web_url += zip_url_addOn\n",
    "print(web_url)"
   ]
  },
  {
   "cell_type": "markdown",
   "metadata": {},
   "source": [
    "Make GET request to web_url including headers"
   ]
  },
  {
   "cell_type": "code",
   "execution_count": 20,
   "metadata": {},
   "outputs": [],
   "source": [
    "# headers is used to get around website server request blocks\n",
    "# 'fake' a browser visit\n",
    "headers = {'User-Agent': testUA}\n",
    "\n",
    "response = requests.get(web_url, headers=headers)"
   ]
  },
  {
   "cell_type": "markdown",
   "metadata": {},
   "source": [
    "Confirm the GET request received a 200 HTTP status code"
   ]
  },
  {
   "cell_type": "code",
   "execution_count": 21,
   "metadata": {},
   "outputs": [
    {
     "data": {
      "text/plain": [
       "<Response [403]>"
      ]
     },
     "execution_count": 21,
     "metadata": {},
     "output_type": "execute_result"
    }
   ],
   "source": [
    "response\n",
    "# if <Response [404]> (NOT FOUND) --> rerun cells above to reset web_url string"
   ]
  },
  {
   "cell_type": "markdown",
   "metadata": {},
   "source": [
    "View the text in the GET request result"
   ]
  },
  {
   "cell_type": "code",
   "execution_count": 22,
   "metadata": {},
   "outputs": [
    {
     "data": {
      "text/plain": [
       "'    <!DOCTYPE html5>\\n    <head>\\n    <meta charset=\"utf-8\">\\n    <meta http-equiv=\"X-UA-Compatible\" content=\"IE=edge,chrome=1\">\\n    <meta http-equiv=\"Content-Type\" content=\"text/html; charset=utf-8\">\\n    <meta name=\"viewport\" content=\"width=device-width,initial-scale=1\">\\n    <script src=\\'https://www.google.com/recaptcha/api.js\\'></script>\\n    <style type=\"text/css\">\\n\\n    #submit {\\n        -webkit-border-radius: 4;\\n        -moz-border-radius: 4;\\n        border-radius: 4px;\\n        font-family: Arial;\\n        font-size: 16px;\\n        background: #0c82a5;\\n        padding: 7px 10px 7px 10px;\\n        text-decoration: none;\\n        color: #ffffff;\\n        border: none;\\n    }\\n\\n    #submit:hover {\\n        background: #3cb0fd;\\n        text-decoration: none;\\n    }\\n\\n    body {\\n        font-family: Arial,\"Helvetica Neue\",Helvetica,sans-serif;\\n        margin: 0;\\n    }\\n    div#header {\\n        height: 59px;\\n        width: 100%;\\n        background-color: #fff;\\n        box-shadow: 0 0 1px rgba(0,0,0,.3);\\n    }\\n\\n    div#error {\\n        color: #0c82a5;\\n        height: 25px;\\n    }\\n\\n    img#logo {\\n        height: 32px;\\n        margin: 16px 0 0 10px;\\n    }\\n\\n\\n    a.link:link, a.link:visited {\\n        text-decoration: none;\\n        color: #0c82a5;\\n    }\\n\\n    a.link:hover, a.link:active {\\n        text-decoration: underline;\\n        color: #0c82a5;\\n    }\\n\\n    div#hdn {\\n        display: none;\\n    }\\n\\n    div#txtWrapper {\\n        margin-left: 10px;\\n        margin-right: 10px;\\n    }\\n\\n    div#txt {\\n        max-width: 650px;\\n        margin-left: auto;\\n        margin-right: auto;\\n    }\\n\\n    div#captcha {\\n        width: 300px;\\n        margin-left: auto;\\n        margin-right: auto;\\n    }\\n    </style>\\n    </head>\\n    <body>\\n\\n    <div id=\"header\">\\n    <img id=\"logo\" alt=\"Redfin Real Estate\" src=\"data:image/png;base64,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\">\\n    </div>\\n\\n    <div id=\"txtWrapper\">\\n    <div id=\"txt\">    <br/>\\n\\n    <p>Oops!  It looks like our usage analysis algorithms think that you\\n    might be a robot.  Accessing the redfin.com in an automated fashion is a\\n    violation of the <a class=\"link\" href=\"/docs/tos.html\">Redfin\\'s terms of use.</a></p>\\n\\n    <p>Please complete the captcha below to access Redfin.</p>\\n\\n    <form name=\"rf_unblock\" id=\"rf_unblock\" method=\"POST\" autocomplete=\"off\">\\n        <div id=\"hdn\">\\n            <input type=\"text\" name=\"email\" autocomplete=\"off\"\\n                placeholder=\"Don\\'t fill this out unless you are a spam bot\" />\\n        </div>\\n        <div id=\"captcha\">\\n            <div>&nbsp;</div>\\n            <div class=\"g-recaptcha\" data-sitekey=\"6LeXKQ4TAAAAAF9-W9Ib3-GqbQdvKVg9xaXsSZD_\" data-callback=\"enableBtn\"></div>\\n            </br>\\n            <input type=\"submit\" name=\"submit\" value=\"Submit\" id=\"submit\" />\\n        </div>\\n\\n    </form>\\n    </div>\\n    </div></body></html>\\n'"
      ]
     },
     "execution_count": 22,
     "metadata": {},
     "output_type": "execute_result"
    }
   ],
   "source": [
    "response.text"
   ]
  },
  {
   "cell_type": "markdown",
   "metadata": {},
   "source": [
    "Create an object of the BeautifulSoup class to parse the web page text with the html.parser parser option"
   ]
  },
  {
   "cell_type": "code",
   "execution_count": 23,
   "metadata": {},
   "outputs": [],
   "source": [
    "response_soup = BeautifulSoup(response.text, 'html.parser')"
   ]
  },
  {
   "cell_type": "markdown",
   "metadata": {},
   "source": [
    "Print the BeautifulSoup object as a nicely (pretty) formatted string"
   ]
  },
  {
   "cell_type": "code",
   "execution_count": 24,
   "metadata": {},
   "outputs": [
    {
     "name": "stdout",
     "output_type": "stream",
     "text": [
      "<!DOCTYPE html5>\n",
      "<head>\n",
      " <meta charset=\"utf-8\"/>\n",
      " <meta content=\"IE=edge,chrome=1\" http-equiv=\"X-UA-Compatible\"/>\n",
      " <meta content=\"text/html; charset=utf-8\" http-equiv=\"Content-Type\"/>\n",
      " <meta content=\"width=device-width,initial-scale=1\" name=\"viewport\"/>\n",
      " <script src=\"https://www.google.com/recaptcha/api.js\">\n",
      " </script>\n",
      " <style type=\"text/css\">\n",
      "  #submit {\n",
      "        -webkit-border-radius: 4;\n",
      "        -moz-border-radius: 4;\n",
      "        border-radius: 4px;\n",
      "        font-family: Arial;\n",
      "        font-size: 16px;\n",
      "        background: #0c82a5;\n",
      "        padding: 7px 10px 7px 10px;\n",
      "        text-decoration: none;\n",
      "        color: #ffffff;\n",
      "        border: none;\n",
      "    }\n",
      "\n",
      "    #submit:hover {\n",
      "        background: #3cb0fd;\n",
      "        text-decoration: none;\n",
      "    }\n",
      "\n",
      "    body {\n",
      "        font-family: Arial,\"Helvetica Neue\",Helvetica,sans-serif;\n",
      "        margin: 0;\n",
      "    }\n",
      "    div#header {\n",
      "        height: 59px;\n",
      "        width: 100%;\n",
      "        background-color: #fff;\n",
      "        box-shadow: 0 0 1px rgba(0,0,0,.3);\n",
      "    }\n",
      "\n",
      "    div#error {\n",
      "        color: #0c82a5;\n",
      "        height: 25px;\n",
      "    }\n",
      "\n",
      "    img#logo {\n",
      "        height: 32px;\n",
      "        margin: 16px 0 0 10px;\n",
      "    }\n",
      "\n",
      "\n",
      "    a.link:link, a.link:visited {\n",
      "        text-decoration: none;\n",
      "        color: #0c82a5;\n",
      "    }\n",
      "\n",
      "    a.link:hover, a.link:active {\n",
      "        text-decoration: underline;\n",
      "        color: #0c82a5;\n",
      "    }\n",
      "\n",
      "    div#hdn {\n",
      "        display: none;\n",
      "    }\n",
      "\n",
      "    div#txtWrapper {\n",
      "        margin-left: 10px;\n",
      "        margin-right: 10px;\n",
      "    }\n",
      "\n",
      "    div#txt {\n",
      "        max-width: 650px;\n",
      "        margin-left: auto;\n",
      "        margin-right: auto;\n",
      "    }\n",
      "\n",
      "    div#captcha {\n",
      "        width: 300px;\n",
      "        margin-left: auto;\n",
      "        margin-right: auto;\n",
      "    }\n",
      " </style>\n",
      "</head>\n",
      "<body>\n",
      " <div id=\"header\">\n",
      "  <img alt=\"Redfin Real Estate\" id=\"logo\" src=\"data:image/png;base64,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\"/>\n",
      " </div>\n",
      " <div id=\"txtWrapper\">\n",
      "  <div id=\"txt\">\n",
      "   <br/>\n",
      "   <p>\n",
      "    Oops!  It looks like our usage analysis algorithms think that you\n",
      "    might be a robot.  Accessing the redfin.com in an automated fashion is a\n",
      "    violation of the\n",
      "    <a class=\"link\" href=\"/docs/tos.html\">\n",
      "     Redfin's terms of use.\n",
      "    </a>\n",
      "   </p>\n",
      "   <p>\n",
      "    Please complete the captcha below to access Redfin.\n",
      "   </p>\n",
      "   <form autocomplete=\"off\" id=\"rf_unblock\" method=\"POST\" name=\"rf_unblock\">\n",
      "    <div id=\"hdn\">\n",
      "     <input autocomplete=\"off\" name=\"email\" placeholder=\"Don't fill this out unless you are a spam bot\" type=\"text\"/>\n",
      "    </div>\n",
      "    <div id=\"captcha\">\n",
      "     <div>\n",
      "     </div>\n",
      "     <div class=\"g-recaptcha\" data-callback=\"enableBtn\" data-sitekey=\"6LeXKQ4TAAAAAF9-W9Ib3-GqbQdvKVg9xaXsSZD_\">\n",
      "     </div>\n",
      "     <input id=\"submit\" name=\"submit\" type=\"submit\" value=\"Submit\"/>\n",
      "    </div>\n",
      "   </form>\n",
      "  </div>\n",
      " </div>\n",
      "</body>\n",
      "\n"
     ]
    }
   ],
   "source": [
    "print(response_soup.prettify())"
   ]
  },
  {
   "cell_type": "markdown",
   "metadata": {},
   "source": [
    "Open the URL in Chrome. Inspect the elements to find a pattern between the property listings.\n",
    "\n",
    "Identify the tag, attribute, and attribute value for the outermost portion of each listing.\n",
    "\n",
    "Do a findAll to assign a list of properties to a variable."
   ]
  },
  {
   "cell_type": "code",
   "execution_count": 102,
   "metadata": {},
   "outputs": [
    {
     "data": {
      "text/plain": [
       "bs4.element.ResultSet"
      ]
     },
     "execution_count": 102,
     "metadata": {},
     "output_type": "execute_result"
    }
   ],
   "source": [
    "# <div class=\"HomeCardContainer selectedHomeCard\" id=\"MapHomeCard_0\" data-rf-test-id=\"react-data-photo-row-0\">\n",
    "listings = response_soup.findAll('div', attrs={'class': 'HomeCardContainer'})\n",
    "type(listings)"
   ]
  },
  {
   "cell_type": "markdown",
   "metadata": {},
   "source": [
    "Print out the variable containing the list of jobs"
   ]
  },
  {
   "cell_type": "code",
   "execution_count": 103,
   "metadata": {
    "scrolled": true
   },
   "outputs": [],
   "source": [
    "for listing in listings:\n",
    "    print(listing)\n",
    "    print(\"-\"*100)\n"
   ]
  },
  {
   "cell_type": "markdown",
   "metadata": {},
   "source": [
    "- Create a dictionary to hold the property details. Initialize the dictionary values to an empty list for each key."
   ]
  },
  {
   "cell_type": "code",
   "execution_count": 104,
   "metadata": {},
   "outputs": [],
   "source": [
    "# dictionary keys\n",
    "\n",
    "'''\n",
    "address - includes address 1, address 2, city, state, zip\n",
    "bedroom_count - num of bedrooms\n",
    "bathroom_count - num of bathrooms\n",
    "price - price of listing\n",
    "square_ft - size of property in ft^2\n",
    "link - web url to individual listing\n",
    "'''\n",
    "\n",
    "property_listing_dict = {\n",
    "    'address': [],\n",
    "    'price': [],\n",
    "    'square_ft': [],\n",
    "    'bedroom_count': [],\n",
    "    'bathroom_count': [],\n",
    "    'link': []\n",
    "}"
   ]
  },
  {
   "cell_type": "markdown",
   "metadata": {},
   "source": [
    "- Loop through the listings\n",
    "    - Scrape for the required listing components and assign each to a variable\n",
    "    - Append the variable to the appropriate key for the dictionary initialized above\n",
    "    - Print out the variable value\n",
    "    - To delimit each article, print out a line of repeating non-alphanumeric characters of choice\n",
    "    \n",
    "Print out the contents of the property listing dictionary"
   ]
  },
  {
   "cell_type": "code",
   "execution_count": 105,
   "metadata": {
    "scrolled": true
   },
   "outputs": [],
   "source": [
    "for listing in listings:\n",
    "    redfin_base_url = 'https://www.redfin.com'\n",
    "    # to sort through listings, must remove 'fake' listing (redfin advertisements) from the loop\n",
    "    listing_header = listing.find('div')['class'][0]\n",
    "    # print(listing_header)\n",
    "    if listing_header == 'MerchPlacement':\n",
    "        listings.remove(listing)\n",
    "        continue\n",
    "    \n",
    "    # address\n",
    "    # <div class=\"addressDisplay font-size-smaller\" data-rf-test-id=\"abp-homeinfo-homeaddress\">\n",
    "    # <span data-rf-test-id=\"abp-streetLine\">8425 Lilienthal Ave, Los Angeles, CA 90045</span></div>\n",
    "    address = listing.find('div', attrs={'class': 'addressDisplay font-size-smaller'}).text\n",
    "    property_listing_dict['address'].append(address)\n",
    "    print(address)\n",
    "    \n",
    "    # price\n",
    "    # <div class=\"bottomV2 \">\n",
    "    # <span class=\"homecardV2Price\" data-rf-test-name=\"homecard-price\">$899,000</span>\n",
    "    price = listing.find('span', attrs={'class': 'homecardV2Price'}).text\n",
    "    property_listing_dict['price'].append(price)\n",
    "    print(price)\n",
    "    \n",
    "    # square_ft\n",
    "    # <div class=\"HomeStatsV2 font-size-small\">\n",
    "    # <div class=\"stats\">2 Beds</div>\n",
    "    # <div class=\"stats\">2 Baths</div>\n",
    "    # <div class=\"stats\">1,236 Sq. Ft.</div>\n",
    "        # use .findAll to choose 3rd item of list\n",
    "    square_ft = listing.findAll('div', attrs={'class': 'HomeStatsV2 font-size-small', 'class': 'stats'})[2].text\n",
    "    property_listing_dict['square_ft'].append(square_ft)\n",
    "    print(square_ft)\n",
    "    \n",
    "    # bedroom_count\n",
    "    # <div class=\"HomeStatsV2 font-size-small\">\n",
    "    # <div class=\"stats\">2 Beds</div>\n",
    "    # <div class=\"stats\">2 Baths</div>\n",
    "    # <div class=\"stats\">1,236 Sq. Ft.</div>\n",
    "        # use .findAll to choose 1st item of list\n",
    "    bedroom_count = listing.findAll('div', attrs={'class': 'HomeStatsV2 font-size-small', 'class': 'stats'})[0].text\n",
    "    property_listing_dict['bedroom_count'].append(bedroom_count)\n",
    "    print(bedroom_count)\n",
    "    \n",
    "    # bathroom_count\n",
    "    # <div class=\"HomeStatsV2 font-size-small\">\n",
    "    # <div class=\"stats\">2 Beds</div>\n",
    "    # <div class=\"stats\">2 Baths</div>\n",
    "    # <div class=\"stats\">1,236 Sq. Ft.</div>\n",
    "        # use .findAll to choose 2nd item of list\n",
    "    bathroom_count = listing.findAll('div', attrs={'class': 'HomeStatsV2 font-size-small', 'class': 'stats'})[1].text\n",
    "    property_listing_dict['bathroom_count'].append(bathroom_count)\n",
    "    print(bathroom_count)\n",
    "    \n",
    "    # link\n",
    "    link = redfin_base_url + listing.find('a')['href']\n",
    "    property_listing_dict['link'].append(link)\n",
    "    print(link)\n",
    "    \n",
    "    print(\"-\"*100)"
   ]
  },
  {
   "cell_type": "markdown",
   "metadata": {},
   "source": [
    "Check to make sure dictionary is right length\n",
    "- make sure dictionary doesn't have double entries caused by running the above cell multiple times"
   ]
  },
  {
   "cell_type": "code",
   "execution_count": 106,
   "metadata": {},
   "outputs": [
    {
     "data": {
      "text/plain": [
       "0"
      ]
     },
     "execution_count": 106,
     "metadata": {},
     "output_type": "execute_result"
    }
   ],
   "source": [
    "len(property_listing_dict['address'])"
   ]
  },
  {
   "cell_type": "markdown",
   "metadata": {},
   "source": [
    "Assign the job details dictionary to a dataframe"
   ]
  },
  {
   "cell_type": "code",
   "execution_count": 5,
   "metadata": {},
   "outputs": [
    {
     "ename": "KeyboardInterrupt",
     "evalue": "",
     "output_type": "error",
     "traceback": [
      "\u001b[0;31m---------------------------------------------------------------------------\u001b[0m",
      "\u001b[0;31mKeyboardInterrupt\u001b[0m                         Traceback (most recent call last)",
      "\u001b[0;32m<ipython-input-5-a66d724abd0d>\u001b[0m in \u001b[0;36m<module>\u001b[0;34m\u001b[0m\n\u001b[0;32m----> 1\u001b[0;31m \u001b[0mdf\u001b[0m \u001b[0;34m=\u001b[0m  \u001b[0mpd\u001b[0m\u001b[0;34m.\u001b[0m\u001b[0mread_csv\u001b[0m\u001b[0;34m(\u001b[0m\u001b[0;34m'weekly_housing_market_data_most_recent (1).tsv'\u001b[0m\u001b[0;34m,\u001b[0m \u001b[0msep\u001b[0m\u001b[0;34m=\u001b[0m\u001b[0;34m'\\t'\u001b[0m\u001b[0;34m)\u001b[0m\u001b[0;34m\u001b[0m\u001b[0;34m\u001b[0m\u001b[0m\n\u001b[0m",
      "\u001b[0;32m~/opt/anaconda3/envs/spring_2021/lib/python3.8/site-packages/pandas/io/parsers.py\u001b[0m in \u001b[0;36mread_csv\u001b[0;34m(filepath_or_buffer, sep, delimiter, header, names, index_col, usecols, squeeze, prefix, mangle_dupe_cols, dtype, engine, converters, true_values, false_values, skipinitialspace, skiprows, skipfooter, nrows, na_values, keep_default_na, na_filter, verbose, skip_blank_lines, parse_dates, infer_datetime_format, keep_date_col, date_parser, dayfirst, cache_dates, iterator, chunksize, compression, thousands, decimal, lineterminator, quotechar, quoting, doublequote, escapechar, comment, encoding, dialect, error_bad_lines, warn_bad_lines, delim_whitespace, low_memory, memory_map, float_precision, storage_options)\u001b[0m\n\u001b[1;32m    603\u001b[0m     \u001b[0mkwds\u001b[0m\u001b[0;34m.\u001b[0m\u001b[0mupdate\u001b[0m\u001b[0;34m(\u001b[0m\u001b[0mkwds_defaults\u001b[0m\u001b[0;34m)\u001b[0m\u001b[0;34m\u001b[0m\u001b[0;34m\u001b[0m\u001b[0m\n\u001b[1;32m    604\u001b[0m \u001b[0;34m\u001b[0m\u001b[0m\n\u001b[0;32m--> 605\u001b[0;31m     \u001b[0;32mreturn\u001b[0m \u001b[0m_read\u001b[0m\u001b[0;34m(\u001b[0m\u001b[0mfilepath_or_buffer\u001b[0m\u001b[0;34m,\u001b[0m \u001b[0mkwds\u001b[0m\u001b[0;34m)\u001b[0m\u001b[0;34m\u001b[0m\u001b[0;34m\u001b[0m\u001b[0m\n\u001b[0m\u001b[1;32m    606\u001b[0m \u001b[0;34m\u001b[0m\u001b[0m\n\u001b[1;32m    607\u001b[0m \u001b[0;34m\u001b[0m\u001b[0m\n",
      "\u001b[0;32m~/opt/anaconda3/envs/spring_2021/lib/python3.8/site-packages/pandas/io/parsers.py\u001b[0m in \u001b[0;36m_read\u001b[0;34m(filepath_or_buffer, kwds)\u001b[0m\n\u001b[1;32m    461\u001b[0m \u001b[0;34m\u001b[0m\u001b[0m\n\u001b[1;32m    462\u001b[0m     \u001b[0;32mwith\u001b[0m \u001b[0mparser\u001b[0m\u001b[0;34m:\u001b[0m\u001b[0;34m\u001b[0m\u001b[0;34m\u001b[0m\u001b[0m\n\u001b[0;32m--> 463\u001b[0;31m         \u001b[0;32mreturn\u001b[0m \u001b[0mparser\u001b[0m\u001b[0;34m.\u001b[0m\u001b[0mread\u001b[0m\u001b[0;34m(\u001b[0m\u001b[0mnrows\u001b[0m\u001b[0;34m)\u001b[0m\u001b[0;34m\u001b[0m\u001b[0;34m\u001b[0m\u001b[0m\n\u001b[0m\u001b[1;32m    464\u001b[0m \u001b[0;34m\u001b[0m\u001b[0m\n\u001b[1;32m    465\u001b[0m \u001b[0;34m\u001b[0m\u001b[0m\n",
      "\u001b[0;32m~/opt/anaconda3/envs/spring_2021/lib/python3.8/site-packages/pandas/io/parsers.py\u001b[0m in \u001b[0;36mread\u001b[0;34m(self, nrows)\u001b[0m\n\u001b[1;32m   1050\u001b[0m     \u001b[0;32mdef\u001b[0m \u001b[0mread\u001b[0m\u001b[0;34m(\u001b[0m\u001b[0mself\u001b[0m\u001b[0;34m,\u001b[0m \u001b[0mnrows\u001b[0m\u001b[0;34m=\u001b[0m\u001b[0;32mNone\u001b[0m\u001b[0;34m)\u001b[0m\u001b[0;34m:\u001b[0m\u001b[0;34m\u001b[0m\u001b[0;34m\u001b[0m\u001b[0m\n\u001b[1;32m   1051\u001b[0m         \u001b[0mnrows\u001b[0m \u001b[0;34m=\u001b[0m \u001b[0mvalidate_integer\u001b[0m\u001b[0;34m(\u001b[0m\u001b[0;34m\"nrows\"\u001b[0m\u001b[0;34m,\u001b[0m \u001b[0mnrows\u001b[0m\u001b[0;34m)\u001b[0m\u001b[0;34m\u001b[0m\u001b[0;34m\u001b[0m\u001b[0m\n\u001b[0;32m-> 1052\u001b[0;31m         \u001b[0mindex\u001b[0m\u001b[0;34m,\u001b[0m \u001b[0mcolumns\u001b[0m\u001b[0;34m,\u001b[0m \u001b[0mcol_dict\u001b[0m \u001b[0;34m=\u001b[0m \u001b[0mself\u001b[0m\u001b[0;34m.\u001b[0m\u001b[0m_engine\u001b[0m\u001b[0;34m.\u001b[0m\u001b[0mread\u001b[0m\u001b[0;34m(\u001b[0m\u001b[0mnrows\u001b[0m\u001b[0;34m)\u001b[0m\u001b[0;34m\u001b[0m\u001b[0;34m\u001b[0m\u001b[0m\n\u001b[0m\u001b[1;32m   1053\u001b[0m \u001b[0;34m\u001b[0m\u001b[0m\n\u001b[1;32m   1054\u001b[0m         \u001b[0;32mif\u001b[0m \u001b[0mindex\u001b[0m \u001b[0;32mis\u001b[0m \u001b[0;32mNone\u001b[0m\u001b[0;34m:\u001b[0m\u001b[0;34m\u001b[0m\u001b[0;34m\u001b[0m\u001b[0m\n",
      "\u001b[0;32m~/opt/anaconda3/envs/spring_2021/lib/python3.8/site-packages/pandas/io/parsers.py\u001b[0m in \u001b[0;36mread\u001b[0;34m(self, nrows)\u001b[0m\n\u001b[1;32m   2054\u001b[0m     \u001b[0;32mdef\u001b[0m \u001b[0mread\u001b[0m\u001b[0;34m(\u001b[0m\u001b[0mself\u001b[0m\u001b[0;34m,\u001b[0m \u001b[0mnrows\u001b[0m\u001b[0;34m=\u001b[0m\u001b[0;32mNone\u001b[0m\u001b[0;34m)\u001b[0m\u001b[0;34m:\u001b[0m\u001b[0;34m\u001b[0m\u001b[0;34m\u001b[0m\u001b[0m\n\u001b[1;32m   2055\u001b[0m         \u001b[0;32mtry\u001b[0m\u001b[0;34m:\u001b[0m\u001b[0;34m\u001b[0m\u001b[0;34m\u001b[0m\u001b[0m\n\u001b[0;32m-> 2056\u001b[0;31m             \u001b[0mdata\u001b[0m \u001b[0;34m=\u001b[0m \u001b[0mself\u001b[0m\u001b[0;34m.\u001b[0m\u001b[0m_reader\u001b[0m\u001b[0;34m.\u001b[0m\u001b[0mread\u001b[0m\u001b[0;34m(\u001b[0m\u001b[0mnrows\u001b[0m\u001b[0;34m)\u001b[0m\u001b[0;34m\u001b[0m\u001b[0;34m\u001b[0m\u001b[0m\n\u001b[0m\u001b[1;32m   2057\u001b[0m         \u001b[0;32mexcept\u001b[0m \u001b[0mStopIteration\u001b[0m\u001b[0;34m:\u001b[0m\u001b[0;34m\u001b[0m\u001b[0;34m\u001b[0m\u001b[0m\n\u001b[1;32m   2058\u001b[0m             \u001b[0;32mif\u001b[0m \u001b[0mself\u001b[0m\u001b[0;34m.\u001b[0m\u001b[0m_first_chunk\u001b[0m\u001b[0;34m:\u001b[0m\u001b[0;34m\u001b[0m\u001b[0;34m\u001b[0m\u001b[0m\n",
      "\u001b[0;32mpandas/_libs/parsers.pyx\u001b[0m in \u001b[0;36mpandas._libs.parsers.TextReader.read\u001b[0;34m()\u001b[0m\n",
      "\u001b[0;32mpandas/_libs/parsers.pyx\u001b[0m in \u001b[0;36mpandas._libs.parsers.TextReader._read_low_memory\u001b[0;34m()\u001b[0m\n",
      "\u001b[0;32mpandas/_libs/parsers.pyx\u001b[0m in \u001b[0;36mpandas._libs.parsers.TextReader._read_rows\u001b[0;34m()\u001b[0m\n",
      "\u001b[0;32mpandas/_libs/parsers.pyx\u001b[0m in \u001b[0;36mpandas._libs.parsers.TextReader._convert_column_data\u001b[0;34m()\u001b[0m\n",
      "\u001b[0;32mpandas/_libs/parsers.pyx\u001b[0m in \u001b[0;36mpandas._libs.parsers.TextReader._convert_tokens\u001b[0;34m()\u001b[0m\n",
      "\u001b[0;32mpandas/_libs/parsers.pyx\u001b[0m in \u001b[0;36mpandas._libs.parsers.TextReader._convert_with_dtype\u001b[0;34m()\u001b[0m\n",
      "\u001b[0;32m~/opt/anaconda3/envs/spring_2021/lib/python3.8/site-packages/pandas/core/dtypes/common.py\u001b[0m in \u001b[0;36mis_categorical_dtype\u001b[0;34m(arr_or_dtype)\u001b[0m\n\u001b[1;32m    535\u001b[0m \u001b[0;34m\u001b[0m\u001b[0m\n\u001b[1;32m    536\u001b[0m \u001b[0;34m\u001b[0m\u001b[0m\n\u001b[0;32m--> 537\u001b[0;31m \u001b[0;32mdef\u001b[0m \u001b[0mis_categorical_dtype\u001b[0m\u001b[0;34m(\u001b[0m\u001b[0marr_or_dtype\u001b[0m\u001b[0;34m)\u001b[0m \u001b[0;34m->\u001b[0m \u001b[0mbool\u001b[0m\u001b[0;34m:\u001b[0m\u001b[0;34m\u001b[0m\u001b[0;34m\u001b[0m\u001b[0m\n\u001b[0m\u001b[1;32m    538\u001b[0m     \"\"\"\n\u001b[1;32m    539\u001b[0m     \u001b[0mCheck\u001b[0m \u001b[0mwhether\u001b[0m \u001b[0man\u001b[0m \u001b[0marray\u001b[0m\u001b[0;34m-\u001b[0m\u001b[0mlike\u001b[0m \u001b[0;32mor\u001b[0m \u001b[0mdtype\u001b[0m \u001b[0;32mis\u001b[0m \u001b[0mof\u001b[0m \u001b[0mthe\u001b[0m \u001b[0mCategorical\u001b[0m \u001b[0mdtype\u001b[0m\u001b[0;34m.\u001b[0m\u001b[0;34m\u001b[0m\u001b[0;34m\u001b[0m\u001b[0m\n",
      "\u001b[0;31mKeyboardInterrupt\u001b[0m: "
     ]
    }
   ],
   "source": [
    "df = pd.DataFrame(property_listing_dict)"
   ]
  },
  {
   "cell_type": "markdown",
   "metadata": {},
   "source": [
    "Print out the first 5 rows of the dataframe"
   ]
  },
  {
   "cell_type": "code",
   "execution_count": 108,
   "metadata": {},
   "outputs": [
    {
     "data": {
      "text/html": [
       "<div>\n",
       "<style scoped>\n",
       "    .dataframe tbody tr th:only-of-type {\n",
       "        vertical-align: middle;\n",
       "    }\n",
       "\n",
       "    .dataframe tbody tr th {\n",
       "        vertical-align: top;\n",
       "    }\n",
       "\n",
       "    .dataframe thead th {\n",
       "        text-align: right;\n",
       "    }\n",
       "</style>\n",
       "<table border=\"1\" class=\"dataframe\">\n",
       "  <thead>\n",
       "    <tr style=\"text-align: right;\">\n",
       "      <th></th>\n",
       "      <th>address</th>\n",
       "      <th>price</th>\n",
       "      <th>square_ft</th>\n",
       "      <th>bedroom_count</th>\n",
       "      <th>bathroom_count</th>\n",
       "      <th>link</th>\n",
       "    </tr>\n",
       "  </thead>\n",
       "  <tbody>\n",
       "  </tbody>\n",
       "</table>\n",
       "</div>"
      ],
      "text/plain": [
       "Empty DataFrame\n",
       "Columns: [address, price, square_ft, bedroom_count, bathroom_count, link]\n",
       "Index: []"
      ]
     },
     "execution_count": 108,
     "metadata": {},
     "output_type": "execute_result"
    }
   ],
   "source": [
    "df.head()"
   ]
  },
  {
   "cell_type": "markdown",
   "metadata": {},
   "source": [
    "Establish a connection to sql-project database.\n",
    "\n",
    "Append ?charset=utf8 to the database name to avoid codec errors."
   ]
  },
  {
   "cell_type": "code",
   "execution_count": 109,
   "metadata": {},
   "outputs": [
    {
     "name": "stdout",
     "output_type": "stream",
     "text": [
      "Connected to MySQL Server version  8.0.20\n",
      "You're connected to database:  ('sql_project',)\n",
      "MySQL connection is closed\n"
     ]
    }
   ],
   "source": [
    "try:\n",
    "    connection = mysql.connector.connect(host='~AWS_HOST~',\n",
    "                                         database='~DATABASE_NAME~',\n",
    "                                         user='~USER~',\n",
    "                                         password='~PASSWORD~',\n",
    "                                         charset='utf8')\n",
    "    if connection.is_connected():\n",
    "        db_Info = connection.get_server_info()\n",
    "        print(\"Connected to MySQL Server version \", db_Info)\n",
    "        cursor = connection.cursor()\n",
    "        cursor.execute(\"select database();\")\n",
    "        record = cursor.fetchone()\n",
    "        print(\"You're connected to database: \", record)\n",
    "\n",
    "except Error as e:\n",
    "    print(\"Error while connecting to MySQL\", e)\n",
    "finally:\n",
    "    if connection.is_connected():\n",
    "        cursor.close()\n",
    "        connection.close()\n",
    "        print(\"MySQL connection is closed\")"
   ]
  },
  {
   "cell_type": "markdown",
   "metadata": {},
   "source": [
    "Insert the dataframe contents to the simplyhired_job table previously created.\n",
    "\n",
    "Ensure your variables in the jobs for loop matches the table's column names. \n",
    "\n",
    "Set the if_exists argument to append to insert into the table already created.\n",
    "\n",
    "Do not insert the dataframe's index column.\n",
    "- For security reasons, AWS credentials have been replaced by \\~ALL_CAPS\\~."
   ]
  },
  {
   "cell_type": "code",
   "execution_count": 110,
   "metadata": {},
   "outputs": [],
   "source": [
    "engine = create_engine('mysql+mysqldb://~USER~:~PASSWORD~@~AWS_HOST~/~DATABASE_NAME~')\n",
    "df.to_sql('redfin_properties_uncleaned', engine, index=False, if_exists='append')"
   ]
  },
  {
   "cell_type": "markdown",
   "metadata": {},
   "source": [
    "### Clear out the redfin_properties_uncleaned table before proceeding. \n",
    "Run the following SQL in database client:\n",
    "\n",
    "TRUNCATE TABLE redfin_properties_uncleaned;\n"
   ]
  },
  {
   "cell_type": "markdown",
   "metadata": {},
   "source": [
    "### Make multiple requests for the Redfin search page to scrape prperty listings and save the results to the redfin_properties_uncleaned table\n",
    "A single  search request only returns ~40 jobs.\"Paginate\" through the results to gather all listings for a specific zipcode.\n",
    "\n",
    "- For security reasons, AWS credentials have been replaced by \\~ALL_CAPS\\~."
   ]
  },
  {
   "cell_type": "code",
   "execution_count": 111,
   "metadata": {},
   "outputs": [],
   "source": [
    "ziplistTest = ['90713', '91306', '90002', '90506', '90069', '91361', '90064', '91308', '91702', '91104', '93535', '91345', '91803', '91791']\n",
    "for zip in ziplistTest:\n",
    "    \n",
    "    url = \"https://www.redfin.com/zipcode/\" # add on zipcode suffix\n",
    "    url += zip\n",
    "    \n",
    "    \n",
    "    # ~MAKE_WEB_PAGE_REQUEST~\n",
    "    headers = {'User-Agent': \"Mozilla/5.0 (Windows NT 10.0; Win64; x64) AppleWebKit/537.36 (KHTML, like Gecko) Chrome/70.0.3538.77 Safari/537.36\"}\n",
    "    request = requests.get(url, headers=headers)\n",
    "\n",
    "    # ~CREATE_BEAUTIFULSOUP_OBJECT_TO_PARSE_WEB_PAGE~\n",
    "    request_soup = BeautifulSoup(request.text, 'html.parser')\n",
    "\n",
    "    # ~FIND_ALL_JOBS_AND_ASSIGN_TO_A_VARIABLE~\n",
    "    listings = request_soup.findAll('div', attrs={'class': 'HomeCardContainer'})\n",
    "    \n",
    "    # find the total number of pages per zip code entry\n",
    "    # since some zip codes have no listings, place in try-except block \n",
    "    try:\n",
    "        total_pages = int(request_soup.find('span', attrs={'class': 'pageText'}).text[-1])\n",
    "    except AttributeError:\n",
    "        continue    \n",
    "    # print(total_pages)\n",
    "    \n",
    "    # loop through each page of zip code listings\n",
    "    for page in range(1, total_pages + 1):\n",
    "        page_url_suffix = '/page-' + str(page)\n",
    "        print('Page:', page)\n",
    "        \n",
    "        # once on to the next page after page 1, add new page number suffix to url\n",
    "        # redo GET request on new url, prettify html, and organize into listings\n",
    "        next_page_url = ''\n",
    "        if page > 1:\n",
    "            next_page_url = url + page_url_suffix\n",
    "            headers = {'User-Agent': \"Mozilla/5.0 (Windows NT 10.0; Win64; x64) AppleWebKit/537.36 (KHTML, like Gecko) Chrome/70.0.3538.77 Safari/537.36\"}\n",
    "            request = requests.get(next_page_url, headers=headers)\n",
    "            request_soup = BeautifulSoup(request.text, 'html.parser')\n",
    "            listings = request_soup.findAll('div', attrs={'class': 'HomeCardContainer'})\n",
    "            \n",
    "\n",
    "        \n",
    "        # ~INITIALIZE_DICTIONARY_TO_STORE_JOB_DETAILS~\n",
    "        property_listing_dict = {\n",
    "        'address': [],\n",
    "        'price': [],\n",
    "        'square_ft': [],\n",
    "        'bedroom_count': [],\n",
    "        'bathroom_count': [],\n",
    "        'link': []\n",
    "        }\n",
    "\n",
    "        # ~LOOP_THROUGH_JOBS~\n",
    "        for listing in listings:\n",
    "            redfin_base_url = 'https://www.redfin.com'\n",
    "            # to sort through listings, must remove 'fake' listing (redfin advertisements) from the loop\n",
    "            listing_header = listing.find('div')['class'][0]\n",
    "            # print(listing_header)\n",
    "            if listing_header == 'MerchPlacement':\n",
    "                listings.remove(listing)\n",
    "                continue\n",
    "\n",
    "            # ADDRESS\n",
    "            address = listing.find('div', attrs={'class': 'addressDisplay font-size-smaller'}).text\n",
    "            property_listing_dict['address'].append(address)\n",
    "            print(address)\n",
    "\n",
    "            # PRICE\n",
    "            price = listing.find('span', attrs={'class': 'homecardV2Price'}).text\n",
    "            property_listing_dict['price'].append(price)\n",
    "            print(price)\n",
    "\n",
    "            # SQUARE_FT\n",
    "            square_ft = listing.findAll('div', attrs={'class': 'HomeStatsV2 font-size-small', 'class': 'stats'})[2].text\n",
    "            property_listing_dict['square_ft'].append(square_ft)\n",
    "            print(square_ft)\n",
    "\n",
    "            # BEDROOM_COUNT\n",
    "            bedroom_count = listing.findAll('div', attrs={'class': 'HomeStatsV2 font-size-small', 'class': 'stats'})[0].text\n",
    "            property_listing_dict['bedroom_count'].append(bedroom_count)\n",
    "            print(bedroom_count)\n",
    "\n",
    "            # BATHROOM_COUNT\n",
    "            bathroom_count = listing.findAll('div', attrs={'class': 'HomeStatsV2 font-size-small', 'class': 'stats'})[1].text\n",
    "            property_listing_dict['bathroom_count'].append(bathroom_count)\n",
    "            print(bathroom_count)\n",
    "\n",
    "            # LINK\n",
    "            link = redfin_base_url + listing.find('a')['href']\n",
    "            property_listing_dict['link'].append(link)\n",
    "            print(link)\n",
    "\n",
    "            print(\"-\"*100)\n",
    "    \n",
    "        # pause between website requests to not overload redfin network, or (most likely) get blocked\n",
    "        time.sleep(.5)\n",
    "        \n",
    "# ~ASSIGN_JOBS_DICTIONARY_TO_A_DATAFRAME~\n",
    "df = pd.DataFrame(property_listing_dict)\n",
    "    \n",
    "# ~INSERT_DATAFRAME_INTO_simplyhired_job_TABLE_WITH_if_exists_append_OPTION~\n",
    "engine = create_engine('mysql+mysqldb://~USER~:~PASSWORD~@~AWS_HOST~/~DATABASE_NAME~')\n",
    "df.to_sql('redfin_properties_uncleaned', engine, index=False, if_exists='append')"
   ]
  }
 ],
 "metadata": {
  "kernelspec": {
   "display_name": "Python 3",
   "language": "python",
   "name": "python3"
  },
  "language_info": {
   "codemirror_mode": {
    "name": "ipython",
    "version": 3
   },
   "file_extension": ".py",
   "mimetype": "text/x-python",
   "name": "python",
   "nbconvert_exporter": "python",
   "pygments_lexer": "ipython3",
   "version": "3.8.5"
  }
 },
 "nbformat": 4,
 "nbformat_minor": 4
}
